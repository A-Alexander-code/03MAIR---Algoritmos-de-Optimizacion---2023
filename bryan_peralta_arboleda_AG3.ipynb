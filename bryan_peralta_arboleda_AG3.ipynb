{
 "cells": [
  {
   "cell_type": "code",
   "execution_count": 18,
   "id": "1c22f91c",
   "metadata": {},
   "outputs": [],
   "source": [
    "import tsplib95\n",
    "import random\n",
    "from math import e\n",
    "import copy\n",
    "import urllib.request\n",
    "import math\n",
    "import gzip\n",
    "import shutil"
   ]
  },
  {
   "cell_type": "code",
   "execution_count": 27,
   "id": "6a32a3f1",
   "metadata": {},
   "outputs": [],
   "source": [
    "# Descargamos el fichero de datos (Matriz de distancias)\n",
    "\n",
    "file = \"swiss42.tsp\"\n",
    "urllib.request.urlretrieve(\"http://comopt.ifi.uni-heidelberg.de/software/TSPLIB95/tsp/swiss42.tsp.gz\", file + \".gz\") \n",
    "\n",
    "with gzip.open('swiss42.tsp.gz', 'rb') as f_in:\n",
    "    with open('swiss42.tsp', 'wb') as f_out:\n",
    "        shutil.copyfileobj(f_in, f_out)"
   ]
  },
  {
   "cell_type": "code",
   "execution_count": 28,
   "id": "194ab6b5",
   "metadata": {},
   "outputs": [],
   "source": [
    "# Carga de datos y generación de objeto (problem)\n",
    "\n",
    "problem = tsplib95.load(file)\n",
    "\n",
    "# Nodos\n",
    "nodos = list(problem.get_nodes())\n",
    "\n",
    "# Aristas\n",
    "aristas = list(problem.get_edges())"
   ]
  },
  {
   "cell_type": "code",
   "execution_count": 31,
   "id": "3264feb8",
   "metadata": {},
   "outputs": [
    {
     "data": {
      "text/plain": [
       "15"
      ]
     },
     "execution_count": 31,
     "metadata": {},
     "output_type": "execute_result"
    }
   ],
   "source": [
    "# Probamos algunas funciones del objeto problem\n",
    "\n",
    "# Distancia entre nodos\n",
    "problem.get_weight(0, 1)"
   ]
  },
  {
   "cell_type": "code",
   "execution_count": 35,
   "id": "9fc09f43",
   "metadata": {},
   "outputs": [],
   "source": [
    "# Se genera una solución aleatoria con comienzo en el nodo 0\n",
    "def crear_solucion(nodos):\n",
    "    solucion = [nodos[0]]\n",
    "    for n in nodos[1:]:\n",
    "        solucion = solucion + [random.choice(list(set(nodos)  - set(solucion)))]\n",
    "    return solucion"
   ]
  },
  {
   "cell_type": "code",
   "execution_count": 38,
   "id": "07b63e86",
   "metadata": {},
   "outputs": [
    {
     "data": {
      "text/plain": [
       "[0,\n",
       " 24,\n",
       " 40,\n",
       " 37,\n",
       " 36,\n",
       " 39,\n",
       " 6,\n",
       " 30,\n",
       " 15,\n",
       " 27,\n",
       " 4,\n",
       " 26,\n",
       " 34,\n",
       " 31,\n",
       " 11,\n",
       " 18,\n",
       " 14,\n",
       " 2,\n",
       " 28,\n",
       " 29,\n",
       " 38,\n",
       " 17,\n",
       " 22,\n",
       " 33,\n",
       " 10,\n",
       " 20,\n",
       " 9,\n",
       " 19,\n",
       " 16,\n",
       " 23,\n",
       " 7,\n",
       " 12,\n",
       " 21,\n",
       " 35,\n",
       " 1,\n",
       " 25,\n",
       " 13,\n",
       " 5,\n",
       " 41,\n",
       " 3,\n",
       " 8,\n",
       " 32]"
      ]
     },
     "execution_count": 38,
     "metadata": {},
     "output_type": "execute_result"
    }
   ],
   "source": [
    "crear_solucion(nodos)"
   ]
  },
  {
   "cell_type": "code",
   "execution_count": 45,
   "id": "342ec2ba",
   "metadata": {},
   "outputs": [],
   "source": [
    "# Devuelve la distancia entre dos nodos\n",
    "def distancia(a, b, problem):\n",
    "    return problem.get_weight(a, b)\n",
    "\n",
    "# Devuelve la distancia total de una trayectoria/solución\n",
    "def distancia_total(solucion, problem):\n",
    "    distancia_total = 0\n",
    "    for i in range(len(solucion) - 1):\n",
    "        distancia_total += distancia(solucion[i], solucion[i+1], problem)\n",
    "    return distancia_total + distancia(solucion[len(solucion) - 1], solucion[0], problem)"
   ]
  },
  {
   "cell_type": "code",
   "execution_count": 46,
   "id": "b3173d5d",
   "metadata": {},
   "outputs": [],
   "source": [
    "# Función de busqueda aleatoria\n",
    "\n",
    "def busqueda_aleatoria(proble, n):\n",
    "    \n",
    "    nodos = list(problem.get_nodes())\n",
    "    \n",
    "    mejor_solucion = []                        \n",
    "    # mejor_distancia = 10e100                  # Inicializamos con un valor alto\n",
    "    mejor_distancia = float('inf')              # Inicializamos con un valor alto\n",
    "    \n",
    "    for i in range(n):                          # Criterio de parada: repetir n veces pero podemos incluir otros\n",
    "        solucion = crear_solucion(nodos)                    # Genera una solución aleatoria\n",
    "        distancia = distancia_total(solucion, problem)      # Calcula el valor objetivo (distancia total)\n",
    "        \n",
    "        if distancia < mejor_distancia:                     # Compara la mejor distancia obtenida hasta ahora\n",
    "            mejor_solucion = solucion\n",
    "            mejor_distancia = distancia\n",
    "            \n",
    "    print(\"Mejor solución: \", mejor_solucion)\n",
    "    print(\"Distancia: \", mejor_distancia)\n",
    "    return mejor_solucion"
   ]
  },
  {
   "cell_type": "code",
   "execution_count": 47,
   "id": "d105df83",
   "metadata": {},
   "outputs": [
    {
     "name": "stdout",
     "output_type": "stream",
     "text": [
      "Mejor solución:  [0, 41, 40, 21, 24, 14, 31, 36, 35, 8, 9, 37, 15, 6, 17, 3, 2, 33, 16, 25, 26, 27, 4, 29, 19, 11, 1, 10, 28, 38, 22, 23, 30, 12, 18, 5, 32, 34, 20, 13, 39, 7]\n",
      "Distancia:  3787\n"
     ]
    }
   ],
   "source": [
    "# Busqueda aleatoria con 500 iteraciones\n",
    "solucion = busqueda_aleatoria(problem, 500)"
   ]
  },
  {
   "cell_type": "code",
   "execution_count": 49,
   "id": "2d15ca2a",
   "metadata": {},
   "outputs": [
    {
     "name": "stdout",
     "output_type": "stream",
     "text": [
      "Mejor solución:  [0, 18, 20, 12, 4, 37, 22, 40, 38, 23, 25, 8, 9, 30, 41, 10, 2, 21, 39, 24, 1, 16, 36, 27, 28, 32, 19, 5, 7, 11, 13, 15, 35, 33, 34, 14, 3, 29, 17, 6, 26, 31]\n",
      "Distancia:  3751\n"
     ]
    }
   ],
   "source": [
    "# Busqueda aleatoria con 500 iteraciones\n",
    "solucion = busqueda_aleatoria(problem, 5000)"
   ]
  },
  {
   "cell_type": "code",
   "execution_count": 50,
   "id": "649f23e2",
   "metadata": {},
   "outputs": [
    {
     "name": "stdout",
     "output_type": "stream",
     "text": [
      "Mejor solución:  [0, 7, 17, 35, 22, 30, 4, 16, 29, 25, 31, 37, 15, 6, 14, 5, 13, 18, 36, 12, 11, 28, 1, 33, 34, 38, 27, 26, 8, 41, 39, 23, 24, 20, 32, 19, 3, 10, 2, 9, 40, 21]\n",
      "Distancia:  3601\n"
     ]
    }
   ],
   "source": [
    "# Busqueda aleatoria con 500 iteraciones\n",
    "solucion = busqueda_aleatoria(problem, 10000)"
   ]
  },
  {
   "cell_type": "markdown",
   "id": "96fdf938",
   "metadata": {},
   "source": [
    "Búsqueda local. Generador de vecindad"
   ]
  },
  {
   "cell_type": "code",
   "execution_count": 52,
   "id": "41459fde",
   "metadata": {},
   "outputs": [],
   "source": [
    "def genera_vecina(solucion):\n",
    "    # Generador de soluciones vecinas: 2-opt (intercambiar 2 nodos) Si hay n nodos se generan (n-1)x(n-2)/2 soluciones\n",
    "    #print(solucion)\n",
    "    mejor_solucion = []\n",
    "    mejor_distancia = 10e100 \n",
    "    \n",
    "    for i in range(1, len(solucion)-1):            # Recorremos todos los nodos en un bucle doble para evaluar todos los intercambios 2-opt\n",
    "        for j in range(i+1, len(solucion)):\n",
    "            \n",
    "            # Se genera una nueva solución intercambiando los dos nodos i, j:\n",
    "            # (usamos el operador + para concadenar las listas) -> ej: [1, 2] + [3, 4] = [1, 2, 3, 4]\n",
    "            vecina = solucion[:i] + [solucion[j]] + solucion[i+1: j] + [solucion[i]] + solucion[j+1:]\n",
    "            \n",
    "            # Se evalua la nueva solución...\n",
    "            distancia_vecina = distancia_total(vecina, problem)\n",
    "            \n",
    "            # Salvar el resultado si si es mejor al anterior\n",
    "            if distancia_vecina <= mejor_distancia:\n",
    "                mejor_distancia = distancia_vecina\n",
    "                mejor_solucion = vecina\n",
    "                \n",
    "    return mejor_solucion"
   ]
  },
  {
   "cell_type": "code",
   "execution_count": 53,
   "id": "3f2d651f",
   "metadata": {},
   "outputs": [
    {
     "name": "stdout",
     "output_type": "stream",
     "text": [
      "Distancia Solución Inicial:  3601\n"
     ]
    }
   ],
   "source": [
    "print(\"Distancia Solución Inicial: \", distancia_total(solucion, problem))"
   ]
  },
  {
   "cell_type": "code",
   "execution_count": 54,
   "id": "36720165",
   "metadata": {},
   "outputs": [
    {
     "name": "stdout",
     "output_type": "stream",
     "text": [
      "Distancia Solución Local:  3276\n"
     ]
    }
   ],
   "source": [
    "nueva_solucion = genera_vecina(solucion)\n",
    "print(\"Distancia Solución Local: \", distancia_total(nueva_solucion, problem))"
   ]
  },
  {
   "cell_type": "markdown",
   "id": "201fb2f0",
   "metadata": {},
   "source": [
    "Busqueda local"
   ]
  },
  {
   "cell_type": "code",
   "execution_count": 61,
   "id": "3de09c5c",
   "metadata": {},
   "outputs": [],
   "source": [
    "# - Sobre el operador de vecindad 2-opt (función genera-vecina)\n",
    "# - Sin criterio de parada, se para cuando no es posible mejorar\n",
    "\n",
    "def busqueda_local(problem):\n",
    "    \n",
    "    mejor_solucion = []\n",
    "    \n",
    "    # Genera una solución inicial de referencia (aleatoria)\n",
    "    solucion_referencia = crear_solucion(nodos)\n",
    "    mejor_distancia = distancia_total(solucion_referencia, problem)\n",
    "    print(\"Distancia antes de busqueda local: \", mejor_distancia)\n",
    "    \n",
    "    iteracion = 0                    # Un contador para saber las iteraciones que hacemos\n",
    "    while(1):\n",
    "        iteracion += 1              # Incrementamos el contador\n",
    "        #print('# - ', iteracion)\n",
    "        \n",
    "        # Obtenemos la mejor vecina...\n",
    "        vecina = genera_vecina(solucion_referencia)\n",
    "        \n",
    "        # ... y la evaluamos para ver si mejoramos respecto a lo encontrado hasta el momento\n",
    "        distancia_vecina = distancia_total(vecina, problem)\n",
    "        \n",
    "        # Si no mejoramos hay que terminar. Hemos llegado a un minimo local (según nuestro operador de vecindad 2-opt)\n",
    "        if distancia_vecina < mejor_distancia:\n",
    "            #mejor_solucion = copy.deepcopy(vecina)           # Con copia profunda. Las copias en python son por referencia\n",
    "            mejor_solucion = vecina\n",
    "            mejor_distancia = distancia_vecina\n",
    "        else:\n",
    "            print(\"En la iteración \", iteracion, \", la mejor solución encontrada es: \", mejor_solucion)\n",
    "            print(\"Distancia \", mejor_distancia)\n",
    "            return mejor_solucion\n",
    "        \n",
    "        solucion_referencia = vecina"
   ]
  },
  {
   "cell_type": "code",
   "execution_count": 62,
   "id": "d408ce79",
   "metadata": {},
   "outputs": [
    {
     "name": "stdout",
     "output_type": "stream",
     "text": [
      "Distancia antes de busqueda local:  4647\n",
      "En la iteración  27 , la mejor solución encontrada es:  [0, 1, 7, 17, 31, 32, 30, 29, 8, 9, 21, 40, 24, 39, 22, 23, 41, 25, 11, 12, 26, 13, 19, 5, 6, 4, 18, 10, 2, 35, 36, 37, 15, 16, 14, 20, 33, 34, 38, 28, 27, 3]\n",
      "Distancia  1803\n"
     ]
    }
   ],
   "source": [
    "sol = busqueda_local(problem)"
   ]
  }
 ],
 "metadata": {
  "kernelspec": {
   "display_name": "Python 3 (ipykernel)",
   "language": "python",
   "name": "python3"
  },
  "language_info": {
   "codemirror_mode": {
    "name": "ipython",
    "version": 3
   },
   "file_extension": ".py",
   "mimetype": "text/x-python",
   "name": "python",
   "nbconvert_exporter": "python",
   "pygments_lexer": "ipython3",
   "version": "3.10.5"
  }
 },
 "nbformat": 4,
 "nbformat_minor": 5
}
