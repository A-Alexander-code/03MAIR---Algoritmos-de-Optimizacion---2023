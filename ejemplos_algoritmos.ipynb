{
 "cells": [
  {
   "cell_type": "markdown",
   "id": "090f79c0",
   "metadata": {},
   "source": [
    "## 1. Desarrollar algoritmos voraces para resolver problemas"
   ]
  },
  {
   "cell_type": "code",
   "execution_count": 10,
   "id": "1c22f91c",
   "metadata": {},
   "outputs": [],
   "source": [
    "def cambio_moneda(monto):\n",
    "    monedas = [1, 5, 10, 25, 50]\n",
    "    lista = []\n",
    "    \n",
    "    if (monto >= 1 and monto <= 99):\n",
    "        for moneda in reversed(monedas):\n",
    "            result = monto//moneda\n",
    "            if result > 0:\n",
    "                txt = f\"moneda {moneda}: {result}\"\n",
    "                #lista.append(moneda*result)\n",
    "                lista.append(txt)\n",
    "                monto -= (moneda*result)\n",
    "        return lista\n",
    "    else:\n",
    "        return \"None\""
   ]
  },
  {
   "cell_type": "code",
   "execution_count": 11,
   "id": "746c423a",
   "metadata": {},
   "outputs": [
    {
     "name": "stdout",
     "output_type": "stream",
     "text": [
      "['moneda 5: 1', 'moneda 50: 1']\n"
     ]
    }
   ],
   "source": [
    "print(cambio_moneda(55))"
   ]
  },
  {
   "cell_type": "code",
   "execution_count": 14,
   "id": "a33a1edb",
   "metadata": {},
   "outputs": [
    {
     "name": "stdout",
     "output_type": "stream",
     "text": [
      "moneda 5: 1\n",
      "moneda 50: 1\n"
     ]
    }
   ],
   "source": [
    "lista_a = cambio_moneda(55)\n",
    "\n",
    "for item in lista_a:\n",
    "    print(item)"
   ]
  },
  {
   "cell_type": "code",
   "execution_count": 12,
   "id": "ca5a88ab",
   "metadata": {},
   "outputs": [
    {
     "name": "stdout",
     "output_type": "stream",
     "text": [
      "['moneda 1: 2', 'moneda 25: 1']\n"
     ]
    }
   ],
   "source": [
    "print(cambio_moneda(27))"
   ]
  },
  {
   "cell_type": "code",
   "execution_count": 15,
   "id": "33c004fa",
   "metadata": {},
   "outputs": [
    {
     "name": "stdout",
     "output_type": "stream",
     "text": [
      "moneda 1: 2\n",
      "moneda 25: 1\n"
     ]
    }
   ],
   "source": [
    "lista_b = cambio_moneda(27)\n",
    "\n",
    "for item in lista_b:\n",
    "    print(item)"
   ]
  },
  {
   "cell_type": "markdown",
   "id": "5841b604",
   "metadata": {},
   "source": [
    "## 2.Desarrollar algoritmos con la técnica de vuelta atrás (backtracking) para resolver problemas"
   ]
  },
  {
   "cell_type": "markdown",
   "id": "209ab48d",
   "metadata": {},
   "source": [
    "El problema de las reinas es colocar 4 reinas en un tablero de ajedrez de 4 x 4 de tal manera que ninguna reina se ataque entre sí por estar en la misma fila, columna o diagonal."
   ]
  },
  {
   "cell_type": "code",
   "execution_count": 16,
   "id": "7f37ac43",
   "metadata": {},
   "outputs": [],
   "source": [
    "cnt = 0\n",
    "\n",
    "def place(pos, cnt, a):\n",
    "    \n",
    "    '''Función para verificar si la reina se puede \n",
    "    colocar en la posición actual o no'''\n",
    "    \n",
    "    for i in range(1, pos):\n",
    "        if ((a[i] == a[pos]) or ((abs(a[i] - a[pos]) == abs(i - pos)))):\n",
    "            return False\n",
    "    return True\n",
    " \n",
    "\n",
    "def print_sol(N, cnt, a):\n",
    "    \n",
    "    '''Función para imprimir el tablero de ajedrez'''\n",
    "    \n",
    "    cnt += 1\n",
    "    print(\"\\n\\nSolución \" , cnt ,  \":\\n\")\n",
    "    for i in range(1, N+1):\n",
    "        for j in range(1, N+1):\n",
    "            if (a[i] == j):\n",
    "                print(\"Q\\t\",end = \"\")\n",
    "            else:\n",
    "                print(\"*\\t\",end=\"\")\n",
    "        print(\"\")\n",
    "         \n",
    "    return cnt\n",
    " \n",
    "\n",
    "def queen(n,cnt,a):\n",
    "    \n",
    "    '''Función para colocar n reinas en un tablero \n",
    "    de ajedrez nxn de manera que ninguna reina se \n",
    "    ataque entre sí'''\n",
    "    \n",
    "    k = 1\n",
    "    a[k] = 0\n",
    "    while (k != 0):\n",
    "        a[k] = a[k] + 1\n",
    "        while ((a[k] <= n) and place(k,cnt,a)!=True):\n",
    "            a[k] += 1\n",
    "        if (a[k] <= n):\n",
    "            if (k == n):\n",
    "                cnt = print_sol(n,cnt,a)\n",
    "            else:\n",
    "                k += 1\n",
    "                a[k] = 0\n",
    "        else:\n",
    "            k -= 1\n",
    "             \n",
    "    return cnt"
   ]
  },
  {
   "cell_type": "code",
   "execution_count": 18,
   "id": "07fb121f",
   "metadata": {},
   "outputs": [
    {
     "name": "stdout",
     "output_type": "stream",
     "text": [
      "\n",
      "\n",
      "Solución  1 :\n",
      "\n",
      "*\tQ\t*\t*\t\n",
      "*\t*\t*\tQ\t\n",
      "Q\t*\t*\t*\t\n",
      "*\t*\tQ\t*\t\n",
      "\n",
      "\n",
      "Solución  2 :\n",
      "\n",
      "*\t*\tQ\t*\t\n",
      "Q\t*\t*\t*\t\n",
      "*\t*\t*\tQ\t\n",
      "*\tQ\t*\t*\t\n",
      "\n",
      "Total soluciones=  2\n"
     ]
    }
   ],
   "source": [
    "# Input variables\n",
    "n = 4\n",
    "a = [0] * 30\n",
    "cnt = 0\n",
    "\n",
    "# Llamada de la función\n",
    "cnt = queen(n, cnt, a)\n",
    "print(\"\\nTotal soluciones= \" , cnt)"
   ]
  },
  {
   "cell_type": "markdown",
   "id": "eda25d8a",
   "metadata": {},
   "source": [
    "## 3.Desarrollar algoritmos con la técnica de divide y vencerás para resolver problemas"
   ]
  },
  {
   "cell_type": "markdown",
   "id": "5531ad63",
   "metadata": {},
   "source": [
    "Busqueda de la posición de un número dentro de una lista"
   ]
  },
  {
   "cell_type": "code",
   "execution_count": 19,
   "id": "fb4ecb32",
   "metadata": {},
   "outputs": [],
   "source": [
    "def bsearch(list, val):\n",
    "\n",
    "    list_size = len(list) - 1\n",
    "\n",
    "    idx0 = 0\n",
    "    idxn = list_size\n",
    "    \n",
    "    # Encontrar el valor medio de la lista\n",
    "\n",
    "    while idx0 <= idxn:\n",
    "        midval = (idx0 + idxn)// 2\n",
    "\n",
    "        if list[midval] == val:\n",
    "            return midval\n",
    "        \n",
    "    # Compara el valor (val) con el valor medio de la lista\n",
    "        if val > list[midval]:\n",
    "            idx0 = midval + 1\n",
    "        else:\n",
    "            idxn = midval - 1\n",
    "\n",
    "    if idx0 > idxn:\n",
    "        return None"
   ]
  },
  {
   "cell_type": "code",
   "execution_count": 7,
   "id": "9617eb95",
   "metadata": {},
   "outputs": [
    {
     "name": "stdout",
     "output_type": "stream",
     "text": [
      "7\n",
      "4\n",
      "None\n"
     ]
    }
   ],
   "source": [
    "# Se provee una lista ordenada\n",
    "lst_val = [2, 7, 19, 29, 34, 48, 53, 72, 87]\n",
    "\n",
    "# Presentación de los resultados de la busqueda\n",
    "print(bsearch(lst_val,72))\n",
    "print(bsearch(lst_val,34))\n",
    "print(bsearch(lst_val,3))"
   ]
  },
  {
   "cell_type": "markdown",
   "id": "59f2c9fd",
   "metadata": {},
   "source": [
    "## 4.Desarrollar algoritmos con la técnica de programación dinámica para resolver problemas"
   ]
  },
  {
   "cell_type": "markdown",
   "id": "3f80308b",
   "metadata": {},
   "source": [
    "Dada un array de monedas de valor entero [ ] de tamaño n que representan diferentes tipos de moneda y un valor entero denomido suma, la tarea es encontrar el número de formas de obtener el valor suma usando diferentes combinaciones de monedas presentes en el array []."
   ]
  },
  {
   "cell_type": "code",
   "execution_count": 8,
   "id": "f9c1a740",
   "metadata": {},
   "outputs": [],
   "source": [
    "def count(coins, n, suma):\n",
    " \n",
    "    '''Si la suma es 0, entonces hay 1 solución \n",
    "    (no incluya ninguna moneda)'''\n",
    "    if (suma == 0):\n",
    "        return 1\n",
    " \n",
    "    '''Si la suma es menor que 0 entonces no \n",
    "    existe solución'''\n",
    "    if (suma < 0):\n",
    "        return 0\n",
    " \n",
    "    '''Si no hay monedas y la suma es mayor que 0, \n",
    "    entonces no existe solución'''\n",
    "    if (n <= 0):\n",
    "        return 0\n",
    " \n",
    "    '''count es la suma de soluciones \n",
    "    (i) incluyendo monedas[n-1] \n",
    "    (ii) excluyendo monedas[n-1]'''\n",
    "    return count(coins, n - 1, suma) + count(coins, n, suma-coins[n-1])"
   ]
  },
  {
   "cell_type": "code",
   "execution_count": 20,
   "id": "d2b5f5b7",
   "metadata": {},
   "outputs": [
    {
     "name": "stdout",
     "output_type": "stream",
     "text": [
      "6\n"
     ]
    }
   ],
   "source": [
    "# VAriables de entrada\n",
    "coins = [1, 5, 10]\n",
    "n = len(coins)\n",
    "print(count(coins, n, 15))"
   ]
  }
 ],
 "metadata": {
  "kernelspec": {
   "display_name": "Python 3 (ipykernel)",
   "language": "python",
   "name": "python3"
  },
  "language_info": {
   "codemirror_mode": {
    "name": "ipython",
    "version": 3
   },
   "file_extension": ".py",
   "mimetype": "text/x-python",
   "name": "python",
   "nbconvert_exporter": "python",
   "pygments_lexer": "ipython3",
   "version": "3.10.5"
  }
 },
 "nbformat": 4,
 "nbformat_minor": 5
}
