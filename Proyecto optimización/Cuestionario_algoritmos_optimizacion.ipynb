{
  "nbformat": 4,
  "nbformat_minor": 0,
  "metadata": {
    "colab": {
      "provenance": []
    },
    "kernelspec": {
      "name": "python3",
      "display_name": "Python 3"
    }
  },
  "cells": [
    {
      "cell_type": "markdown",
      "metadata": {
        "id": "hVbXYX-RfPWh"
      },
      "source": [
        "# Algoritmos de optimización - Seminario<br>\n",
        "Nombre y Apellidos:   Bryan Peralta Arboleda<br>\n",
        "Url: https://github.com/A-Alexander-code/03MAIR---Algoritmos-de-Optimizacion---2023/tree/46822456af01b2ded8aa960fb797fe8083cd5a82/Proyecto%20optimizaci%C3%B3n<br>\n",
        "Problema:\n",
        "> 1. Sesiones de doblaje <br>\n",
        ">2. Organizar los horarios de partidos de La Liga<br>\n",
        "\n",
        "\n",
        "Descripción del problema:(copiar enunciado)\n",
        "\n",
        "Se precisa coordinar el doblaje de una película. Los actores del doblaje deben coincidir en las tomas en las que sus personajes aparecen juntos en las diferentes tomas. Los actores de doblaje cobran todos la misma cantidad por cada día que deben desplazarse hasta el estudio de grabación independientemente del número de tomas que se graben. No es posible grabar más de 6 tomas por día. El objetivo es planificar las sesiones por día de manera que el gasto por los\n",
        "servicios de los actores de doblaje sea el menor posible.\n",
        "\n",
        "Número de actores: 10\n",
        "Número de tomas: 30\n",
        "Actores/Tomas: https://bit.ly/36D8IuK\n",
        "\n",
        "(*) La respuesta es obligatoria\n",
        "\n",
        "\n",
        "\n",
        "\n",
        "\n"
      ]
    },
    {
      "cell_type": "markdown",
      "metadata": {
        "id": "3_-exlrTgLd-"
      },
      "source": [
        "(*)¿Cuantas posibilidades hay sin tener en cuenta las restricciones?<br>\n",
        "\n",
        "\n",
        "\n",
        "¿Cuantas posibilidades hay teniendo en cuenta todas las restricciones.\n",
        "\n",
        "\n"
      ]
    },
    {
      "cell_type": "markdown",
      "metadata": {
        "id": "WfCUqJyKhPcw"
      },
      "source": [
        "Respuesta"
      ]
    },
    {
      "cell_type": "code",
      "source": [
        "import numpy as np"
      ],
      "metadata": {
        "id": "aQZow-qB_TQ6"
      },
      "execution_count": null,
      "outputs": []
    },
    {
      "cell_type": "code",
      "metadata": {
        "id": "iq6Fe32MgpDX",
        "outputId": "1f45a9ec-be8e-4f09-c59f-00c1671ca5ff",
        "colab": {
          "base_uri": "https://localhost:8080/"
        }
      },
      "source": [
        "tomas = 30\n",
        "sub = 6\n",
        "\n",
        "comb = np.math.factorial(tomas)/(np.math.factorial(sub)*np.math.factorial(tomas - sub))\n",
        "print(comb)"
      ],
      "execution_count": null,
      "outputs": [
        {
          "output_type": "stream",
          "name": "stdout",
          "text": [
            "593775.0\n"
          ]
        }
      ]
    },
    {
      "cell_type": "markdown",
      "source": [
        "En base a la teoría de combinaciones para una muestra de 30 tomas y una posibilidad de agruparlos en 6 conjuntos sin repetir las tomas, se tendría una cantidad de 593775 variaciones."
      ],
      "metadata": {
        "id": "nIza3j2m-Xyn"
      }
    },
    {
      "cell_type": "markdown",
      "metadata": {
        "id": "dzynfVJahHoY"
      },
      "source": [
        "Modelo para el espacio de soluciones<br>\n",
        "(*) ¿Cual es la estructura de datos que mejor se adapta al problema? Argumentalo.(Es posible que hayas elegido una al principio y veas la necesidad de cambiar, arguentalo)\n"
      ]
    },
    {
      "cell_type": "markdown",
      "metadata": {
        "id": "xFIJrOwKi2Ti"
      },
      "source": [
        "Respuesta"
      ]
    },
    {
      "cell_type": "markdown",
      "source": [
        "Para reducir la cantidad de tomas, primero se busca compaginar dos tomas donde los actores no se repitan, con base en está reducción se utiliza una estructura de divide y venceras."
      ],
      "metadata": {
        "id": "VlsAUItaAdaq"
      }
    },
    {
      "cell_type": "markdown",
      "metadata": {
        "id": "7Z9U2W7bi-XS"
      },
      "source": [
        "Según el modelo para el espacio de soluciones<br>\n",
        "(*)¿Cual es la función objetivo?\n",
        "\n",
        "(*)¿Es un problema de maximización o minimización?"
      ]
    },
    {
      "cell_type": "markdown",
      "metadata": {
        "id": "hBalWLM7j1_d"
      },
      "source": [
        "Respuesta"
      ]
    },
    {
      "cell_type": "markdown",
      "source": [
        "La función objetivo es la compaginación de dos tomas que no repitan actores.\n",
        "Este es un problema de minimización que busca reducir la cantidad de tomas y por ende el número de subconjuntos que se pueden hacer a partir de una cantidad menor de tomas."
      ],
      "metadata": {
        "id": "HlbeOmhqBPZP"
      }
    },
    {
      "cell_type": "markdown",
      "metadata": {
        "id": "rlnTYgY1j6I2"
      },
      "source": [
        "Diseña un algoritmo para resolver el problema por fuerza bruta"
      ]
    },
    {
      "cell_type": "markdown",
      "metadata": {
        "id": "70rDgxYXkC8r"
      },
      "source": [
        "Respuesta"
      ]
    },
    {
      "cell_type": "code",
      "metadata": {
        "id": "CJb5sQ0qkENy"
      },
      "source": [
        "# Función para agrupar las tomas en conjuntos de n integrantes\n",
        "\n",
        "def op_schedule(rows, mod_dataSet, list_t, n):\n",
        "\n",
        "    '''\n",
        "    rows: número de tomas en el dataset\n",
        "    mod_dataSet: dataset\n",
        "    list_t: lista que contiene un índice de las tomas\n",
        "    n: subconjuntos para agrupación\n",
        "    '''\n",
        "\n",
        "    idx_i = []\n",
        "\n",
        "    for i in range(rows):\n",
        "        if mod_dataSet[i].sum() == 0:\n",
        "            idx_i.append(i)\n",
        "        else:\n",
        "            pass\n",
        "\n",
        "    mod_dataSet = np.delete(mod_dataSet, idx_i, 0)\n",
        "\n",
        "    for item in idx_i:\n",
        "        list_t.remove(list_t[item])\n",
        "\n",
        "    # Combinar tomas de tal manera que haya conjuntos de n\n",
        "    new_mod = np.array(mod_dataSet, copy = True)\n",
        "    n_rows, n_columns = new_mod.shape\n",
        "    conj_cnd = n\n",
        "    sub_c = n_rows // conj_cnd\n",
        "    last_sub = n_rows - sub_c*conj_cnd\n",
        "    if last_sub > 0:\n",
        "        sub_c += 1\n",
        "    else:\n",
        "        pass\n",
        "\n",
        "    schedule = np.zeros((sub_c, n_columns))\n",
        "    j = 0\n",
        "    tomas_seg = []\n",
        "\n",
        "    for i in range(sub_c):\n",
        "        schedule[i] = np.sum(new_mod[j:j+n, :], axis=0)\n",
        "        j += n\n",
        "\n",
        "    return schedule, len(list_t)"
      ],
      "execution_count": null,
      "outputs": []
    },
    {
      "cell_type": "markdown",
      "metadata": {
        "id": "tgrnsC2nkFa8"
      },
      "source": [
        "Calcula la complejidad del algoritmo por fuerza bruta"
      ]
    },
    {
      "cell_type": "markdown",
      "metadata": {
        "id": "9eUd3xwckP68"
      },
      "source": [
        "Respuesta"
      ]
    },
    {
      "cell_type": "markdown",
      "source": [
        "La función consta de tres bucles for, dos de ellos tienen una sentencia if anidada.\n",
        "<dl>Complejidad: O(n)"
      ],
      "metadata": {
        "id": "atK6ekARCSNl"
      }
    },
    {
      "cell_type": "markdown",
      "metadata": {
        "id": "txbrmLmskReM"
      },
      "source": [
        "(*)Diseña un algoritmo que mejore la complejidad del algortimo por fuerza bruta. Argumenta porque crees que mejora el algoritmo por fuerza bruta"
      ]
    },
    {
      "cell_type": "markdown",
      "metadata": {
        "id": "hLrVwt5QkZPD"
      },
      "source": [
        "Respuesta"
      ]
    },
    {
      "cell_type": "markdown",
      "source": [
        "El algoritmo que se diseño aumenta su complejidad a O(n^2). Sin embargo, este algoritmo primero filtra las tomas para unir aquellas en que no hay actores repetidos y despúes agruparlas, esperando de esta manera reducir el número de subconjuntos.\n",
        "<dl>\n",
        "Con la implementación del algoritmo se redujo a 27 tomas de las 30 originales, lo que implica que en la última toma los gastos de movilización y necesidades de los actores son reducidos ya que en la última sesión sólo se necesita agendar y rodar con 7 participaciones, en contraste con la movilización de más de 15 participaciones en las tomas restantes.\n",
        "<dl>\n",
        "La estructura puede ser consultada en el archivo adjunto: optimizacion_cronograma_original.ipynb."
      ],
      "metadata": {
        "id": "GVZkxMC_D-BU"
      }
    },
    {
      "cell_type": "markdown",
      "metadata": {
        "id": "eGDB4K6uk1iN"
      },
      "source": [
        "(*)Calcula la complejidad del algoritmo"
      ]
    },
    {
      "cell_type": "markdown",
      "metadata": {
        "id": "NhpTh_BPk1ms"
      },
      "source": [
        "Respuesta"
      ]
    },
    {
      "cell_type": "markdown",
      "source": [
        "Complejidad: O(n^2)"
      ],
      "metadata": {
        "id": "ydMiWeQhFwJh"
      }
    },
    {
      "cell_type": "markdown",
      "metadata": {
        "id": "3M6QjTsSkmYe"
      },
      "source": [
        "Según el problema (y tenga sentido), diseña un juego de datos de entrada aleatorios"
      ]
    },
    {
      "cell_type": "markdown",
      "metadata": {
        "id": "Jc3_OlyNkvjZ"
      },
      "source": [
        "Respuesta"
      ]
    },
    {
      "cell_type": "code",
      "metadata": {
        "id": "sJ-N2etjkyWc",
        "outputId": "225308fa-01ec-44c7-9cc5-49953d3b3f7c",
        "colab": {
          "base_uri": "https://localhost:8080/"
        }
      },
      "source": [
        "import numpy as np\n",
        "import pandas as pd\n",
        "import random\n",
        "\n",
        "random.seed(42)\n",
        "\n",
        "def get_schedule(act, tom):\n",
        "\n",
        "    data_set = np.zeros(shape=(tom, act))\n",
        "\n",
        "    for i in range(tom):\n",
        "        for j in range(act):\n",
        "            data_set[i][j] = random.randint(0,1)\n",
        "\n",
        "    return data_set\n",
        "\n",
        "# Cantidad de actores y número de tomas a generarse\n",
        "num_act = 12\n",
        "num_tom = 28\n",
        "\n",
        "data_set = get_schedule(num_act, num_tom)\n",
        "\n",
        "print(data_set)"
      ],
      "execution_count": null,
      "outputs": [
        {
          "output_type": "stream",
          "name": "stdout",
          "text": [
            "[[0. 0. 1. 0. 0. 0. 0. 0. 1. 0. 0. 0.]\n",
            " [0. 0. 0. 0. 1. 0. 1. 1. 0. 0. 1. 1.]\n",
            " [1. 0. 0. 1. 0. 0. 1. 0. 1. 1. 1. 0.]\n",
            " [1. 0. 1. 0. 1. 1. 0. 0. 0. 0. 1. 0.]\n",
            " [0. 0. 1. 1. 1. 1. 0. 1. 1. 0. 1. 0.]\n",
            " [0. 0. 0. 1. 1. 1. 0. 1. 0. 0. 0. 1.]\n",
            " [1. 1. 0. 0. 1. 0. 1. 1. 1. 0. 1. 0.]\n",
            " [0. 1. 1. 1. 1. 0. 0. 1. 0. 0. 0. 0.]\n",
            " [0. 1. 0. 1. 1. 1. 1. 0. 0. 1. 1. 0.]\n",
            " [1. 1. 0. 1. 0. 1. 0. 0. 1. 0. 0. 1.]\n",
            " [0. 0. 1. 1. 0. 0. 1. 1. 0. 0. 0. 0.]\n",
            " [0. 1. 0. 0. 0. 1. 0. 1. 1. 0. 0. 1.]\n",
            " [1. 1. 1. 1. 0. 0. 0. 0. 1. 0. 0. 0.]\n",
            " [0. 0. 0. 0. 0. 0. 1. 0. 0. 1. 1. 0.]\n",
            " [0. 1. 0. 1. 1. 0. 0. 0. 1. 1. 1. 1.]\n",
            " [1. 0. 0. 0. 1. 1. 0. 0. 0. 0. 1. 0.]\n",
            " [1. 0. 1. 1. 0. 0. 1. 0. 0. 0. 0. 0.]\n",
            " [0. 1. 1. 1. 0. 1. 0. 0. 1. 0. 1. 1.]\n",
            " [1. 1. 1. 1. 0. 0. 1. 0. 0. 0. 1. 0.]\n",
            " [0. 1. 0. 0. 0. 0. 0. 0. 0. 1. 0. 0.]\n",
            " [0. 0. 1. 1. 1. 0. 1. 0. 1. 1. 0. 1.]\n",
            " [1. 1. 0. 0. 1. 0. 0. 0. 1. 0. 1. 0.]\n",
            " [0. 1. 1. 0. 1. 1. 0. 1. 0. 0. 1. 0.]\n",
            " [0. 0. 1. 1. 0. 1. 0. 1. 1. 1. 0. 0.]\n",
            " [1. 1. 0. 0. 1. 0. 1. 0. 1. 1. 0. 0.]\n",
            " [0. 0. 0. 1. 0. 1. 0. 0. 1. 1. 0. 1.]\n",
            " [0. 0. 0. 1. 1. 0. 0. 0. 0. 1. 0. 0.]\n",
            " [1. 1. 0. 1. 0. 0. 1. 0. 1. 0. 0. 1.]]\n"
          ]
        }
      ]
    },
    {
      "cell_type": "markdown",
      "metadata": {
        "id": "zy5ZROmjlGo1"
      },
      "source": [
        "Aplica el algoritmo al juego de datos generado"
      ]
    },
    {
      "cell_type": "markdown",
      "metadata": {
        "id": "_Cmj-PVylMsa"
      },
      "source": [
        "Respuesta"
      ]
    },
    {
      "cell_type": "markdown",
      "source": [
        "El desarrollo del algoritmo puede consultarse en el archivo adjunto: optimizacion_cronograma_generado.ipynb\n",
        "\n",
        "<dl> De las 28 tomas originales se redujo el número a 26 tomas y estas fueron agrupadas en subconjuntos de 7"
      ],
      "metadata": {
        "id": "umqfhxFTGRex"
      }
    },
    {
      "cell_type": "markdown",
      "metadata": {
        "id": "eTFWUJQrtGcv"
      },
      "source": [
        "Enumera las referencias que has utilizado(si ha sido necesario) para llevar a cabo el trabajo"
      ]
    },
    {
      "cell_type": "markdown",
      "metadata": {
        "id": "YKQ_mRBttWsP"
      },
      "source": [
        "Respuesta"
      ]
    },
    {
      "cell_type": "markdown",
      "source": [
        "NumPy. (s. f.). https://numpy.org/"
      ],
      "metadata": {
        "id": "0Iwrivw-HTZy"
      }
    },
    {
      "cell_type": "markdown",
      "metadata": {
        "id": "kAkDPUyRtYyH"
      },
      "source": [
        "Describe brevemente las lineas de como crees que es posible avanzar en el estudio del problema. Ten en cuenta incluso posibles variaciones del problema y/o variaciones al alza del tamaño"
      ]
    },
    {
      "cell_type": "markdown",
      "metadata": {
        "id": "IE0uZmo-tZu-"
      },
      "source": [
        "Respuesta"
      ]
    },
    {
      "cell_type": "markdown",
      "source": [
        "Una forma de reducir aún más el número de tomas filtrado es permitiendo que en una toma que no tenga un actor que participe pueda seleccionarse otra toma, de tal manera que el número de participaciones por toma sea el máximo posible, lo que haría que el número de subconjuntos de tomas disminuya. También podría utilizarse un algoritmo de backpropagation para revisar posibles combinaciones entre tomas que ya han sido emparejadas aunque esto aumentaría la complejidad del algoritmo."
      ],
      "metadata": {
        "id": "Fo3wRdPpHrLB"
      }
    },
    {
      "cell_type": "code",
      "source": [],
      "metadata": {
        "id": "gJ5mVpLdIdV8"
      },
      "execution_count": null,
      "outputs": []
    }
  ]
}