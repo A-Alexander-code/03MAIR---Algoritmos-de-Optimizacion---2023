{
 "cells": [
  {
   "cell_type": "markdown",
   "id": "fb9fb2f0",
   "metadata": {},
   "source": [
    "### Librerías"
   ]
  },
  {
   "cell_type": "code",
   "execution_count": 1,
   "id": "4fe07ac2",
   "metadata": {},
   "outputs": [],
   "source": [
    "import numpy as np\n",
    "import pandas as pd\n",
    "import random"
   ]
  },
  {
   "cell_type": "markdown",
   "id": "8b0d847a",
   "metadata": {},
   "source": [
    "### Conjunto de datos y propiedades"
   ]
  },
  {
   "cell_type": "code",
   "execution_count": 2,
   "id": "eb17c765",
   "metadata": {},
   "outputs": [
    {
     "data": {
      "text/html": [
       "<div>\n",
       "<style scoped>\n",
       "    .dataframe tbody tr th:only-of-type {\n",
       "        vertical-align: middle;\n",
       "    }\n",
       "\n",
       "    .dataframe tbody tr th {\n",
       "        vertical-align: top;\n",
       "    }\n",
       "\n",
       "    .dataframe thead th {\n",
       "        text-align: right;\n",
       "    }\n",
       "</style>\n",
       "<table border=\"1\" class=\"dataframe\">\n",
       "  <thead>\n",
       "    <tr style=\"text-align: right;\">\n",
       "      <th></th>\n",
       "      <th>Ac_1</th>\n",
       "      <th>Ac_2</th>\n",
       "      <th>Ac_3</th>\n",
       "      <th>Ac_4</th>\n",
       "      <th>Ac_5</th>\n",
       "      <th>Ac_6</th>\n",
       "      <th>Ac_7</th>\n",
       "      <th>Ac_8</th>\n",
       "      <th>Ac_9</th>\n",
       "      <th>Ac_10</th>\n",
       "    </tr>\n",
       "    <tr>\n",
       "      <th>Toma</th>\n",
       "      <th></th>\n",
       "      <th></th>\n",
       "      <th></th>\n",
       "      <th></th>\n",
       "      <th></th>\n",
       "      <th></th>\n",
       "      <th></th>\n",
       "      <th></th>\n",
       "      <th></th>\n",
       "      <th></th>\n",
       "    </tr>\n",
       "  </thead>\n",
       "  <tbody>\n",
       "    <tr>\n",
       "      <th>1</th>\n",
       "      <td>1</td>\n",
       "      <td>1</td>\n",
       "      <td>1</td>\n",
       "      <td>1</td>\n",
       "      <td>1</td>\n",
       "      <td>0</td>\n",
       "      <td>0</td>\n",
       "      <td>0</td>\n",
       "      <td>0</td>\n",
       "      <td>0</td>\n",
       "    </tr>\n",
       "    <tr>\n",
       "      <th>2</th>\n",
       "      <td>0</td>\n",
       "      <td>0</td>\n",
       "      <td>1</td>\n",
       "      <td>1</td>\n",
       "      <td>1</td>\n",
       "      <td>0</td>\n",
       "      <td>0</td>\n",
       "      <td>0</td>\n",
       "      <td>0</td>\n",
       "      <td>0</td>\n",
       "    </tr>\n",
       "    <tr>\n",
       "      <th>3</th>\n",
       "      <td>0</td>\n",
       "      <td>1</td>\n",
       "      <td>0</td>\n",
       "      <td>0</td>\n",
       "      <td>1</td>\n",
       "      <td>0</td>\n",
       "      <td>1</td>\n",
       "      <td>0</td>\n",
       "      <td>0</td>\n",
       "      <td>0</td>\n",
       "    </tr>\n",
       "    <tr>\n",
       "      <th>4</th>\n",
       "      <td>1</td>\n",
       "      <td>1</td>\n",
       "      <td>0</td>\n",
       "      <td>0</td>\n",
       "      <td>0</td>\n",
       "      <td>0</td>\n",
       "      <td>1</td>\n",
       "      <td>1</td>\n",
       "      <td>0</td>\n",
       "      <td>0</td>\n",
       "    </tr>\n",
       "    <tr>\n",
       "      <th>5</th>\n",
       "      <td>0</td>\n",
       "      <td>1</td>\n",
       "      <td>0</td>\n",
       "      <td>1</td>\n",
       "      <td>0</td>\n",
       "      <td>0</td>\n",
       "      <td>0</td>\n",
       "      <td>1</td>\n",
       "      <td>0</td>\n",
       "      <td>0</td>\n",
       "    </tr>\n",
       "  </tbody>\n",
       "</table>\n",
       "</div>"
      ],
      "text/plain": [
       "      Ac_1  Ac_2  Ac_3  Ac_4  Ac_5  Ac_6  Ac_7  Ac_8  Ac_9  Ac_10\n",
       "Toma                                                             \n",
       "1        1     1     1     1     1     0     0     0     0      0\n",
       "2        0     0     1     1     1     0     0     0     0      0\n",
       "3        0     1     0     0     1     0     1     0     0      0\n",
       "4        1     1     0     0     0     0     1     1     0      0\n",
       "5        0     1     0     1     0     0     0     1     0      0"
      ]
     },
     "execution_count": 2,
     "metadata": {},
     "output_type": "execute_result"
    }
   ],
   "source": [
    "df = pd.read_csv(\"problema_doblaje.csv\", index_col = 0)\n",
    "df.head()"
   ]
  },
  {
   "cell_type": "code",
   "execution_count": 3,
   "id": "59a73bb9",
   "metadata": {},
   "outputs": [],
   "source": [
    "data_set = df.to_numpy()"
   ]
  },
  {
   "cell_type": "code",
   "execution_count": 4,
   "id": "defb993d",
   "metadata": {},
   "outputs": [
    {
     "name": "stdout",
     "output_type": "stream",
     "text": [
      "Tomas: 30 y Actores: 10\n"
     ]
    }
   ],
   "source": [
    "rows, columns = data_set.shape\n",
    "print(f'Tomas: {rows} y Actores: {columns}')"
   ]
  },
  {
   "cell_type": "markdown",
   "id": "74d9c2bd",
   "metadata": {},
   "source": [
    "### Funciones para el desarrollo del algoritmo"
   ]
  },
  {
   "cell_type": "code",
   "execution_count": 5,
   "id": "961b2fef",
   "metadata": {},
   "outputs": [],
   "source": [
    "# Función para definir si existen tomas en las que se repiten actores\n",
    "\n",
    "def val_rep(list1, list2):\n",
    "    '''\n",
    "    m_list -> lista mayor\n",
    "    n_list -> lista menor\n",
    "    '''\n",
    "    if len(list1) >= len(list2):\n",
    "        m_list = list1\n",
    "        n_list = list2\n",
    "    else:\n",
    "        m_list = list2\n",
    "        n_list = list1\n",
    "    \n",
    "    j = 0\n",
    "    \n",
    "    for item in n_list:\n",
    "        if item in m_list:\n",
    "            j += 1\n",
    "        else:\n",
    "            pass\n",
    "    \n",
    "    if j > 0:\n",
    "        return False\n",
    "    else:\n",
    "        return True"
   ]
  },
  {
   "cell_type": "code",
   "execution_count": 6,
   "id": "1414e9a8",
   "metadata": {},
   "outputs": [],
   "source": [
    "# Función que obtine los actores que aparecen en la toma\n",
    "\n",
    "def act_tom(idx_i, data_set):\n",
    "    \n",
    "    '''\n",
    "    idx_i: indice de la toma (int)\n",
    "    data_set: cronograma tomas/actores (2D array)\n",
    "    tomas: número de tomas (list)\n",
    "    '''\n",
    "    \n",
    "    # Actores que aprecen en la toma\n",
    "    data_ex = mod_dataSet[idx_i, :]\n",
    "\n",
    "    # Indice de los actores que aprecen en la toma n\n",
    "    loct_n = np.argwhere(data_ex == 1)\n",
    "    loct_n  = loct_n.flatten()\n",
    "\n",
    "    return loct_n"
   ]
  },
  {
   "cell_type": "code",
   "execution_count": 7,
   "id": "f3f54e61",
   "metadata": {},
   "outputs": [],
   "source": [
    "# Función para buscar las tomas que pueden compaginar con una toma seleccionada\n",
    "\n",
    "def sup_list(list_2, dataSet, loct_n):\n",
    "    for item in list_2:\n",
    "        \n",
    "        loct_m = act_tom(item, dataSet)\n",
    "\n",
    "        if val_rep(loct_n, loct_m):\n",
    "            return item\n",
    "        else:\n",
    "            pass"
   ]
  },
  {
   "cell_type": "code",
   "execution_count": 8,
   "id": "6dddfae9",
   "metadata": {},
   "outputs": [],
   "source": [
    "# Función para mover las tomas de tal manera que reubico tomas donde no se repiten los actores\n",
    "\n",
    "def reub_tomas(list_tomas, mod_dataSet, tomas, list_t):\n",
    "    \n",
    "    #mod_dataSet = np.array(data_set, copy = True)\n",
    "    rows, columns = data_set.shape\n",
    "    \n",
    "    for item in list_tomas:\n",
    "    \n",
    "        act_n = item\n",
    "        loct_n = act_tom(act_n, mod_dataSet)\n",
    "\n",
    "        tom_res = tomas.copy()\n",
    "        tom_res.remove(act_n)\n",
    "\n",
    "        sum_act = mod_dataSet[act_n].sum()\n",
    "\n",
    "        list_j = []\n",
    "\n",
    "        for item in tom_res:\n",
    "            if mod_dataSet[item].sum() <= columns - sum_act:\n",
    "                list_j.append(item)\n",
    "            else:\n",
    "                pass\n",
    "\n",
    "        idx_2 = sup_list(list_j, mod_dataSet, loct_n)\n",
    "        loct_m = np.argwhere(mod_dataSet[idx_2, :] == 1)\n",
    "        if loct_n.size != 0 and loct_m.size != 0:\n",
    "            loct_m  = loct_m.flatten()\n",
    "            mod_dataSet[act_n, loct_m] = 1\n",
    "            mod_dataSet[idx_2, loct_m] = 0\n",
    "            list_t[act_n].append(idx_2)\n",
    "        else:\n",
    "            pass\n",
    "\n",
    "    return mod_dataSet, list_t"
   ]
  },
  {
   "cell_type": "code",
   "execution_count": 9,
   "id": "d12aadb9",
   "metadata": {},
   "outputs": [],
   "source": [
    "# Función para agrupar las tomas en conjuntos de 6\n",
    "\n",
    "def op_schedule(rows, mod_dataSet, list_t, n):\n",
    "    \n",
    "    idx_i = []\n",
    "    \n",
    "    for i in range(rows):\n",
    "        if mod_dataSet[i].sum() == 0:\n",
    "            idx_i.append(i)\n",
    "        else:\n",
    "            pass\n",
    "    \n",
    "    mod_dataSet = np.delete(mod_dataSet, idx_i, 0)\n",
    "\n",
    "    for item in idx_i:\n",
    "        list_t.remove(list_t[item])\n",
    "    \n",
    "    # Combinar tomas de tal manera que haya conjuntos de n\n",
    "    new_mod = np.array(mod_dataSet, copy = True)\n",
    "    n_rows, n_columns = new_mod.shape\n",
    "    conj_cnd = n\n",
    "    sub_c = n_rows // conj_cnd\n",
    "    last_sub = n_rows - sub_c*conj_cnd\n",
    "    if last_sub > 0:\n",
    "        sub_c += 1\n",
    "    else:\n",
    "        pass\n",
    "    \n",
    "    schedule = np.zeros((sub_c, n_columns))\n",
    "    j = 0\n",
    "    tomas_seg = []\n",
    "\n",
    "    for i in range(sub_c):\n",
    "        schedule[i] = np.sum(new_mod[j:j+n, :], axis=0)\n",
    "        j += n\n",
    "    \n",
    "    return schedule, len(list_t)"
   ]
  },
  {
   "cell_type": "markdown",
   "id": "589e0765",
   "metadata": {},
   "source": [
    "### Algoritmo hecho en un sólo bucle y con las tomas en orden"
   ]
  },
  {
   "cell_type": "code",
   "execution_count": 10,
   "id": "7ea0bc62",
   "metadata": {},
   "outputs": [],
   "source": [
    "rows, columns = data_set.shape\n",
    "tomas = [j for j in range(rows)]\n",
    "list_tomas = [i for i in range(rows)]\n",
    "list_t = []\n",
    "for i in range(1, rows + 1):\n",
    "    item = []\n",
    "    item.append(i)\n",
    "    list_t.append(item)\n",
    "mod_dataSet = np.array(data_set, copy = True)"
   ]
  },
  {
   "cell_type": "code",
   "execution_count": 11,
   "id": "038cbbdc",
   "metadata": {},
   "outputs": [
    {
     "name": "stdout",
     "output_type": "stream",
     "text": [
      "[[1 1 1 1 1 1 0 1 0 0]\n",
      " [1 1 1 1 1 0 1 1 0 0]\n",
      " [0 0 0 0 0 0 0 0 0 0]\n",
      " [0 0 0 0 0 0 0 0 0 0]\n",
      " [0 1 0 1 0 0 0 1 0 0]\n",
      " [1 1 0 1 1 0 0 0 0 0]\n",
      " [1 1 0 1 1 0 0 0 0 0]\n",
      " [1 1 0 0 0 1 0 0 0 0]\n",
      " [1 1 0 1 0 0 0 0 0 0]\n",
      " [1 1 0 0 0 1 0 0 1 0]\n",
      " [1 1 1 0 1 0 0 1 0 0]\n",
      " [1 1 1 1 0 1 0 0 0 0]\n",
      " [1 0 0 1 1 0 0 0 0 0]\n",
      " [1 1 1 0 1 1 1 0 0 0]\n",
      " [1 1 0 0 0 0 1 0 0 0]\n",
      " [0 0 0 1 0 0 0 0 0 1]\n",
      " [1 0 1 0 0 0 0 0 0 0]\n",
      " [0 0 1 0 0 1 0 0 0 0]\n",
      " [1 0 1 0 0 0 0 0 0 0]\n",
      " [1 0 1 1 1 0 0 0 0 0]\n",
      " [0 0 0 0 0 0 0 0 0 0]\n",
      " [1 1 1 1 0 0 0 0 0 0]\n",
      " [1 0 1 0 0 0 0 0 0 0]\n",
      " [0 0 1 0 0 1 0 0 0 0]\n",
      " [1 1 0 1 0 0 0 0 0 1]\n",
      " [1 0 1 0 1 0 0 0 1 0]\n",
      " [0 0 0 1 1 0 0 0 0 0]\n",
      " [1 0 0 1 0 0 0 0 0 0]\n",
      " [1 0 0 0 1 1 0 0 0 0]\n",
      " [1 0 0 1 0 0 0 0 0 0]]\n",
      "[[1, 20], [2, 3], [3], [4], [5], [6], [7], [8], [9], [10], [11], [12], [13], [14, 2], [15], [16], [17], [18], [19], [20], [21], [22], [23], [24], [25], [26], [27], [28], [29], [30]]\n"
     ]
    }
   ],
   "source": [
    "new_dataset, tomas_mov = reub_tomas(list_tomas, mod_dataSet, tomas, list_t)\n",
    "print(new_dataset)\n",
    "print(tomas_mov)"
   ]
  },
  {
   "cell_type": "markdown",
   "id": "c985e8a5",
   "metadata": {},
   "source": [
    "Ingresar el número máximo de tomas por día que se pueden realizar"
   ]
  },
  {
   "cell_type": "code",
   "execution_count": 12,
   "id": "1f81159d",
   "metadata": {},
   "outputs": [
    {
     "name": "stdout",
     "output_type": "stream",
     "text": [
      "El número de tomas se redujo a 27 tomas\n",
      "[[5. 6. 2. 5. 4. 2. 1. 3. 0. 0.]\n",
      " [6. 5. 3. 3. 3. 3. 1. 1. 1. 0.]\n",
      " [4. 1. 4. 2. 1. 1. 1. 0. 0. 1.]\n",
      " [4. 2. 4. 3. 2. 1. 0. 0. 1. 1.]\n",
      " [3. 0. 0. 2. 1. 1. 0. 0. 0. 0.]]\n"
     ]
    }
   ],
   "source": [
    "sub_conj = 6\n",
    "schedule, tomas_per = op_schedule(rows, new_dataset, tomas_mov, sub_conj)\n",
    "print(f\"El número de tomas se redujo a {tomas_per} tomas\")\n",
    "print(schedule)"
   ]
  }
 ],
 "metadata": {
  "kernelspec": {
   "display_name": "Python 3 (ipykernel)",
   "language": "python",
   "name": "python3"
  },
  "language_info": {
   "codemirror_mode": {
    "name": "ipython",
    "version": 3
   },
   "file_extension": ".py",
   "mimetype": "text/x-python",
   "name": "python",
   "nbconvert_exporter": "python",
   "pygments_lexer": "ipython3",
   "version": "3.10.5"
  }
 },
 "nbformat": 4,
 "nbformat_minor": 5
}
