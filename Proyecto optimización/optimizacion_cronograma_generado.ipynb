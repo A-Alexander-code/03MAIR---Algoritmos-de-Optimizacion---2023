{
 "cells": [
  {
   "cell_type": "markdown",
   "id": "2e3ef254",
   "metadata": {},
   "source": [
    "### Librerías"
   ]
  },
  {
   "cell_type": "code",
   "execution_count": 1,
   "id": "44d17426",
   "metadata": {},
   "outputs": [],
   "source": [
    "import numpy as np\n",
    "import pandas as pd\n",
    "import random"
   ]
  },
  {
   "cell_type": "markdown",
   "id": "a3d5d633",
   "metadata": {},
   "source": [
    "### Cronograma de actores y tomas"
   ]
  },
  {
   "cell_type": "code",
   "execution_count": 10,
   "id": "6a78f443",
   "metadata": {},
   "outputs": [],
   "source": [
    "# Función para obtener un cronograma de actores y tomas con participación aleatoria\n",
    "\n",
    "def get_schedule(act, tom):\n",
    "    \n",
    "    data_set = np.zeros(shape=(tom, act))\n",
    "    \n",
    "    for i in range(tom):\n",
    "        for j in range(act):\n",
    "            data_set[i][j] = random.randint(0,1)\n",
    "            \n",
    "    return data_set"
   ]
  },
  {
   "cell_type": "code",
   "execution_count": 11,
   "id": "9cd9b2b9",
   "metadata": {},
   "outputs": [],
   "source": [
    "# Cantidad de actores y número de tomas a generarse\n",
    "num_act = 12\n",
    "num_tom = 28\n",
    "\n",
    "data_set = get_schedule(num_act, num_tom)"
   ]
  },
  {
   "cell_type": "code",
   "execution_count": 13,
   "id": "2f39c1f6",
   "metadata": {},
   "outputs": [
    {
     "name": "stdout",
     "output_type": "stream",
     "text": [
      "Tomas: 28 y Actores: 12\n"
     ]
    }
   ],
   "source": [
    "rows, columns = data_set.shape\n",
    "print(f'Tomas: {rows} y Actores: {columns}')"
   ]
  },
  {
   "cell_type": "markdown",
   "id": "e5657362",
   "metadata": {},
   "source": [
    "### Funciones para el desarrollo del algoritmo"
   ]
  },
  {
   "cell_type": "code",
   "execution_count": 14,
   "id": "59e567ea",
   "metadata": {},
   "outputs": [],
   "source": [
    "# Función para definir si existen tomas en las que se repiten actores\n",
    "\n",
    "def val_rep(list1, list2):\n",
    "    '''\n",
    "    m_list -> lista mayor\n",
    "    n_list -> lista menor\n",
    "    '''\n",
    "    if len(list1) >= len(list2):\n",
    "        m_list = list1\n",
    "        n_list = list2\n",
    "    else:\n",
    "        m_list = list2\n",
    "        n_list = list1\n",
    "    \n",
    "    j = 0\n",
    "    \n",
    "    for item in n_list:\n",
    "        if item in m_list:\n",
    "            j += 1\n",
    "        else:\n",
    "            pass\n",
    "    \n",
    "    if j > 0:\n",
    "        return False\n",
    "    else:\n",
    "        return True"
   ]
  },
  {
   "cell_type": "code",
   "execution_count": 15,
   "id": "cf7d6a72",
   "metadata": {},
   "outputs": [],
   "source": [
    "# Función que obtine los actores que aparecen en la toma\n",
    "\n",
    "def act_tom(idx_i, data_set):\n",
    "    \n",
    "    '''\n",
    "    idx_i: indice de la toma (int)\n",
    "    data_set: cronograma tomas/actores (2D array)\n",
    "    tomas: número de tomas (list)\n",
    "    '''\n",
    "    \n",
    "    # Actores que aprecen en la toma\n",
    "    data_ex = mod_dataSet[idx_i, :]\n",
    "\n",
    "    # Indice de los actores que aprecen en la toma n\n",
    "    loct_n = np.argwhere(data_ex == 1)\n",
    "    loct_n  = loct_n.flatten()\n",
    "\n",
    "    return loct_n"
   ]
  },
  {
   "cell_type": "code",
   "execution_count": 16,
   "id": "3fe5ec34",
   "metadata": {},
   "outputs": [],
   "source": [
    "# Función para buscar las tomas que pueden compaginar con una toma seleccionada\n",
    "\n",
    "def sup_list(list_2, dataSet, loct_n):\n",
    "    for item in list_2:\n",
    "        \n",
    "        loct_m = act_tom(item, dataSet)\n",
    "\n",
    "        if val_rep(loct_n, loct_m):\n",
    "            return item\n",
    "        else:\n",
    "            pass"
   ]
  },
  {
   "cell_type": "code",
   "execution_count": 17,
   "id": "83e95cc9",
   "metadata": {},
   "outputs": [],
   "source": [
    "# Función para mover las tomas de tal manera que reubico tomas donde no se repiten los actores\n",
    "\n",
    "def reub_tomas(list_tomas, mod_dataSet, tomas, list_t):\n",
    "    \n",
    "    #mod_dataSet = np.array(data_set, copy = True)\n",
    "    rows, columns = data_set.shape\n",
    "    \n",
    "    for item in list_tomas:\n",
    "    \n",
    "        act_n = item\n",
    "        loct_n = act_tom(act_n, mod_dataSet)\n",
    "\n",
    "        tom_res = tomas.copy()\n",
    "        tom_res.remove(act_n)\n",
    "\n",
    "        sum_act = mod_dataSet[act_n].sum()\n",
    "\n",
    "        list_j = []\n",
    "\n",
    "        for item in tom_res:\n",
    "            if mod_dataSet[item].sum() <= columns - sum_act:\n",
    "                list_j.append(item)\n",
    "            else:\n",
    "                pass\n",
    "\n",
    "        idx_2 = sup_list(list_j, mod_dataSet, loct_n)\n",
    "        loct_m = np.argwhere(mod_dataSet[idx_2, :] == 1)\n",
    "        if loct_n.size != 0 and loct_m.size != 0:\n",
    "            loct_m  = loct_m.flatten()\n",
    "            mod_dataSet[act_n, loct_m] = 1\n",
    "            mod_dataSet[idx_2, loct_m] = 0\n",
    "            list_t[act_n].append(idx_2)\n",
    "        else:\n",
    "            pass\n",
    "\n",
    "    return mod_dataSet, list_t"
   ]
  },
  {
   "cell_type": "code",
   "execution_count": 18,
   "id": "71d1b091",
   "metadata": {},
   "outputs": [],
   "source": [
    "# Función para agrupar las tomas en conjuntos de 6\n",
    "\n",
    "def op_schedule(rows, mod_dataSet, list_t, n):\n",
    "    \n",
    "    idx_i = []\n",
    "    \n",
    "    for i in range(rows):\n",
    "        if mod_dataSet[i].sum() == 0:\n",
    "            idx_i.append(i)\n",
    "        else:\n",
    "            pass\n",
    "    \n",
    "    mod_dataSet = np.delete(mod_dataSet, idx_i, 0)\n",
    "\n",
    "    for item in idx_i:\n",
    "        list_t.remove(list_t[item])\n",
    "    \n",
    "    # Combinar tomas de tal manera que haya conjuntos de n\n",
    "    new_mod = np.array(mod_dataSet, copy = True)\n",
    "    n_rows, n_columns = new_mod.shape\n",
    "    conj_cnd = n\n",
    "    sub_c = n_rows // conj_cnd\n",
    "    last_sub = n_rows - sub_c*conj_cnd\n",
    "    if last_sub > 0:\n",
    "        sub_c += 1\n",
    "    else:\n",
    "        pass\n",
    "    \n",
    "    schedule = np.zeros((sub_c, n_columns))\n",
    "    j = 0\n",
    "    tomas_seg = []\n",
    "\n",
    "    for i in range(sub_c):\n",
    "        schedule[i] = np.sum(new_mod[j:j+n, :], axis=0)\n",
    "        j += n\n",
    "    \n",
    "    return schedule, len(list_t)"
   ]
  },
  {
   "cell_type": "markdown",
   "id": "4c15e3c3",
   "metadata": {},
   "source": [
    "### Algoritmo hecho en un sólo bucle y con las tomas en orden"
   ]
  },
  {
   "cell_type": "code",
   "execution_count": 19,
   "id": "1ae359d1",
   "metadata": {},
   "outputs": [],
   "source": [
    "rows, columns = data_set.shape\n",
    "tomas = [j for j in range(rows)]\n",
    "list_tomas = [i for i in range(rows)]\n",
    "list_t = []\n",
    "for i in range(1, rows + 1):\n",
    "    item = []\n",
    "    item.append(i)\n",
    "    list_t.append(item)\n",
    "mod_dataSet = np.array(data_set, copy = True)"
   ]
  },
  {
   "cell_type": "code",
   "execution_count": 20,
   "id": "464551c7",
   "metadata": {},
   "outputs": [
    {
     "name": "stdout",
     "output_type": "stream",
     "text": [
      "[[0. 0. 1. 1. 1. 1. 0. 1. 1. 0. 0. 1.]\n",
      " [0. 1. 1. 1. 1. 0. 1. 0. 1. 0. 0. 1.]\n",
      " [0. 1. 1. 0. 1. 0. 1. 0. 0. 1. 0. 1.]\n",
      " [0. 1. 1. 0. 1. 0. 0. 1. 0. 0. 1. 1.]\n",
      " [1. 0. 1. 1. 1. 0. 1. 0. 1. 0. 0. 1.]\n",
      " [1. 1. 1. 0. 1. 1. 0. 0. 0. 0. 1. 0.]\n",
      " [1. 1. 1. 1. 1. 1. 1. 1. 1. 1. 1. 1.]\n",
      " [0. 0. 0. 0. 0. 0. 0. 0. 0. 0. 0. 0.]\n",
      " [0. 0. 1. 1. 1. 0. 0. 1. 1. 0. 1. 0.]\n",
      " [0. 0. 0. 0. 0. 0. 0. 0. 0. 0. 0. 0.]\n",
      " [1. 1. 0. 0. 1. 1. 1. 0. 1. 0. 0. 1.]\n",
      " [1. 0. 1. 0. 0. 1. 0. 1. 0. 1. 0. 1.]\n",
      " [0. 0. 0. 0. 0. 0. 0. 0. 0. 0. 0. 0.]\n",
      " [0. 0. 1. 0. 0. 1. 0. 1. 1. 0. 1. 0.]\n",
      " [0. 0. 1. 1. 0. 0. 1. 1. 0. 0. 1. 1.]\n",
      " [0. 1. 0. 1. 0. 0. 1. 1. 0. 0. 1. 0.]\n",
      " [1. 1. 0. 1. 0. 1. 1. 1. 1. 1. 1. 0.]\n",
      " [0. 0. 1. 0. 0. 0. 1. 1. 1. 0. 1. 1.]\n",
      " [1. 0. 0. 0. 1. 1. 1. 0. 1. 0. 1. 1.]\n",
      " [0. 0. 0. 1. 0. 1. 0. 1. 0. 1. 1. 0.]\n",
      " [1. 1. 0. 1. 1. 1. 0. 0. 1. 1. 1. 0.]\n",
      " [0. 1. 1. 1. 1. 1. 0. 1. 0. 1. 1. 0.]\n",
      " [0. 1. 1. 0. 0. 0. 1. 0. 0. 1. 0. 0.]\n",
      " [1. 1. 0. 1. 0. 0. 0. 0. 1. 1. 1. 1.]\n",
      " [0. 0. 0. 0. 0. 1. 1. 1. 0. 0. 1. 1.]\n",
      " [1. 1. 0. 0. 0. 1. 1. 0. 0. 0. 1. 0.]\n",
      " [1. 1. 0. 1. 0. 0. 0. 1. 0. 0. 0. 1.]\n",
      " [1. 1. 0. 0. 0. 1. 1. 1. 1. 1. 0. 1.]]\n",
      "[[1, 12], [2], [3], [4], [5, 9], [6], [7, 7], [8], [9], [10], [11], [12], [13], [14], [15], [16], [17], [18], [19], [20], [21], [22], [23], [24], [25], [26], [27], [28]]\n"
     ]
    }
   ],
   "source": [
    "new_dataset, tomas_mov = reub_tomas(list_tomas, mod_dataSet, tomas, list_t)\n",
    "print(new_dataset)\n",
    "print(tomas_mov)"
   ]
  },
  {
   "cell_type": "markdown",
   "id": "fde894e5",
   "metadata": {},
   "source": [
    "Ingresar el número máximo de tomas por día que se pueden realizar"
   ]
  },
  {
   "cell_type": "code",
   "execution_count": 21,
   "id": "8d4a9c43",
   "metadata": {},
   "outputs": [
    {
     "name": "stdout",
     "output_type": "stream",
     "text": [
      "El número de tomas se redujo a 25 tomas\n",
      "[[3. 5. 7. 4. 7. 3. 4. 3. 4. 2. 3. 6.]\n",
      " [3. 3. 4. 4. 2. 4. 4. 6. 4. 2. 5. 3.]\n",
      " [3. 4. 3. 4. 3. 4. 3. 3. 4. 5. 6. 3.]\n",
      " [3. 3. 0. 1. 0. 3. 3. 3. 1. 1. 2. 3.]]\n"
     ]
    }
   ],
   "source": [
    "sub_conj = 7\n",
    "schedule, tomas_per = op_schedule(rows, new_dataset, tomas_mov, sub_conj)\n",
    "print(f\"El número de tomas se redujo a {tomas_per} tomas\")\n",
    "print(schedule)"
   ]
  }
 ],
 "metadata": {
  "kernelspec": {
   "display_name": "Python 3 (ipykernel)",
   "language": "python",
   "name": "python3"
  },
  "language_info": {
   "codemirror_mode": {
    "name": "ipython",
    "version": 3
   },
   "file_extension": ".py",
   "mimetype": "text/x-python",
   "name": "python",
   "nbconvert_exporter": "python",
   "pygments_lexer": "ipython3",
   "version": "3.10.5"
  }
 },
 "nbformat": 4,
 "nbformat_minor": 5
}
