{
 "cells": [
  {
   "cell_type": "markdown",
   "id": "682604db",
   "metadata": {},
   "source": [
    "# AG1 - Actividad Guiada 1\n",
    "### Bryan Peralta Arboleda"
   ]
  },
  {
   "cell_type": "markdown",
   "id": "af21d858",
   "metadata": {},
   "source": [
    "## Divide y vencerás\n",
    "#### Torres de Hanoy"
   ]
  },
  {
   "cell_type": "code",
   "execution_count": 1,
   "id": "a9e392b1",
   "metadata": {},
   "outputs": [],
   "source": [
    "def torres_de_hanoi(n, origen, destino, auxiliar):\n",
    "    \n",
    "    if n == 1:\n",
    "        print(f\"Mover disco desde {origen} a {destino}\")\n",
    "        return\n",
    "    \n",
    "    torres_de_hanoi(n-1, origen, auxiliar, destino)\n",
    "    print(f\"Mover disco desde {origen} a {destino}\")\n",
    "    torres_de_hanoi(n-1, auxiliar, destino, origen)"
   ]
  },
  {
   "cell_type": "code",
   "execution_count": 2,
   "id": "8bad4156",
   "metadata": {},
   "outputs": [
    {
     "name": "stdout",
     "output_type": "stream",
     "text": [
      "Mover disco desde 1 a 2\n",
      "Mover disco desde 1 a 3\n",
      "Mover disco desde 2 a 3\n",
      "Mover disco desde 1 a 2\n",
      "Mover disco desde 3 a 1\n",
      "Mover disco desde 3 a 2\n",
      "Mover disco desde 1 a 2\n",
      "Mover disco desde 1 a 3\n",
      "Mover disco desde 2 a 3\n",
      "Mover disco desde 2 a 1\n",
      "Mover disco desde 3 a 1\n",
      "Mover disco desde 2 a 3\n",
      "Mover disco desde 1 a 2\n",
      "Mover disco desde 1 a 3\n",
      "Mover disco desde 2 a 3\n"
     ]
    }
   ],
   "source": [
    "torres_de_hanoi(4, 1, 3, 2)"
   ]
  },
  {
   "cell_type": "markdown",
   "id": "aa2aef72",
   "metadata": {},
   "source": [
    "## Algoritmos voraces\n",
    "#### Cambio de monedas"
   ]
  },
  {
   "cell_type": "code",
   "execution_count": 5,
   "id": "98441988",
   "metadata": {},
   "outputs": [],
   "source": [
    "def cambio_monedas(CANTIDAD, SISTEMA):\n",
    "    \n",
    "    print(\"SISTEMA: \")\n",
    "    print(SISTEMA)\n",
    "    \n",
    "    # Inicializamos el array que contendrá la cantidad de monedas de cada valor\n",
    "    SOLUCION = [0 for i in range(len(SISTEMA))]\n",
    "    # Inicializamos el valor acumulado\n",
    "    VALOR_CALCULADO = 0\n",
    "    \n",
    "    # Recorremos el sistema monetario (Conjunto de candidatos)\n",
    "    for i in range(len(SISTEMA)):\n",
    "        # Calcula la cantidad de monedas de valor SISTEMA[i] (Función selección)\n",
    "        monedas = int((CANTIDAD - VALOR_CALCULADO)/SISTEMA[i])\n",
    "        # Añade el número de monedas a la solución\n",
    "        SOLUCION[i] = monedas\n",
    "        # Incrementa el valor acumulado (Función de factibilidad)\n",
    "        VALOR_CALCULADO += monedas * SISTEMA[i]\n",
    "        # FInalizamos si ya hemos lelgado a la solución (Criterio de solución final)\n",
    "    \n",
    "    return SOLUCION"
   ]
  },
  {
   "cell_type": "code",
   "execution_count": 6,
   "id": "f080895d",
   "metadata": {},
   "outputs": [
    {
     "name": "stdout",
     "output_type": "stream",
     "text": [
      "SISTEMA: \n",
      "[25, 10, 5, 1]\n"
     ]
    },
    {
     "data": {
      "text/plain": [
       "[1, 0, 0, 2]"
      ]
     },
     "execution_count": 6,
     "metadata": {},
     "output_type": "execute_result"
    }
   ],
   "source": [
    "SISTEMA = [25, 10, 5, 1]\n",
    "cambio_monedas(27, SISTEMA)"
   ]
  },
  {
   "cell_type": "markdown",
   "id": "6a6539aa",
   "metadata": {},
   "source": [
    "Segunda versión"
   ]
  },
  {
   "cell_type": "code",
   "execution_count": 7,
   "id": "90b77283",
   "metadata": {},
   "outputs": [],
   "source": [
    "def cambio_monedas(CANTIDAD, SISTEMA):\n",
    "    \n",
    "    print(\"SISTEMA: \")\n",
    "    print(SISTEMA)\n",
    "    \n",
    "    SOLUCION = [0 for i in range(len(SISTEMA))]\n",
    "    VALOR_CALCULADO = 0\n",
    "    \n",
    "    for i in range(len(SISTEMA)):\n",
    "        monedas = int((CANTIDAD - VALOR_CALCULADO)/SISTEMA[i])\n",
    "        SOLUCION[i] = monedas\n",
    "        VALOR_CALCULADO += monedas * SISTEMA[i]\n",
    "        \n",
    "        if VALOR_CALCULADO == CANTIDAD:\n",
    "            return SOLUCION\n",
    "        \n",
    "    return SOLUCION"
   ]
  },
  {
   "cell_type": "code",
   "execution_count": 8,
   "id": "b37fff4a",
   "metadata": {},
   "outputs": [
    {
     "name": "stdout",
     "output_type": "stream",
     "text": [
      "SISTEMA: \n",
      "[11, 5, 1]\n"
     ]
    },
    {
     "data": {
      "text/plain": [
       "[1, 0, 4]"
      ]
     },
     "execution_count": 8,
     "metadata": {},
     "output_type": "execute_result"
    }
   ],
   "source": [
    "sistema_monetario = [11, 5, 1]\n",
    "cambio_monedas(15, sistema_monetario)"
   ]
  },
  {
   "cell_type": "code",
   "execution_count": 10,
   "id": "354431fb",
   "metadata": {},
   "outputs": [
    {
     "name": "stdout",
     "output_type": "stream",
     "text": [
      "SISTEMA: \n",
      "[2, 7]\n"
     ]
    },
    {
     "data": {
      "text/plain": [
       "[6, 0]"
      ]
     },
     "execution_count": 10,
     "metadata": {},
     "output_type": "execute_result"
    }
   ],
   "source": [
    "sistema_monetario = [2, 7]\n",
    "cambio_monedas(12, sistema_monetario)"
   ]
  },
  {
   "cell_type": "code",
   "execution_count": 11,
   "id": "023ea045",
   "metadata": {},
   "outputs": [
    {
     "name": "stdout",
     "output_type": "stream",
     "text": [
      "SISTEMA: \n",
      "[3, 7]\n"
     ]
    },
    {
     "data": {
      "text/plain": [
       "[5, 0]"
      ]
     },
     "execution_count": 11,
     "metadata": {},
     "output_type": "execute_result"
    }
   ],
   "source": [
    "sistema_monetario = [3, 7]\n",
    "cambio_monedas(16, sistema_monetario)"
   ]
  },
  {
   "cell_type": "markdown",
   "id": "9a68d7b5",
   "metadata": {},
   "source": [
    "El programa no funciona correctamente cuando el sistema monetario no posee monedas cuyos multiplos puedan formar el cambio solicitado."
   ]
  },
  {
   "cell_type": "code",
   "execution_count": null,
   "id": "f00dd30e",
   "metadata": {},
   "outputs": [],
   "source": []
  }
 ],
 "metadata": {
  "kernelspec": {
   "display_name": "Python 3 (ipykernel)",
   "language": "python",
   "name": "python3"
  },
  "language_info": {
   "codemirror_mode": {
    "name": "ipython",
    "version": 3
   },
   "file_extension": ".py",
   "mimetype": "text/x-python",
   "name": "python",
   "nbconvert_exporter": "python",
   "pygments_lexer": "ipython3",
   "version": "3.10.5"
  }
 },
 "nbformat": 4,
 "nbformat_minor": 5
}
